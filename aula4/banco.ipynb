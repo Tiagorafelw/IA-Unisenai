{
  "cells": [
    {
      "cell_type": "markdown",
      "metadata": {
        "id": "JtQwX_nfBoxO"
      },
      "source": [
        "# Bibliotecas"
      ]
    },
    {
      "cell_type": "code",
      "execution_count": null,
      "metadata": {
        "id": "0ViKobaKBqbi"
      },
      "outputs": [],
      "source": [
        "# Manipulação de dados\n",
        "import pandas as pd\n",
        "\n",
        "# Visualização\n",
        "import plotly.express as px\n",
        "import plotly.graph_objects as go\n",
        "import plotly.figure_factory as ff\n",
        "\n",
        "# Pré-processamento\n",
        "from sklearn.model_selection import train_test_split\n",
        "from sklearn.compose import ColumnTransformer\n",
        "from sklearn.preprocessing import (\n",
        "    LabelEncoder,\n",
        "    StandardScaler,\n",
        "    OneHotEncoder\n",
        ")\n",
        "from sklearn.pipeline import Pipeline\n",
        "from sklearn.metrics import (\n",
        "    accuracy_score,\n",
        "    confusion_matrix,\n",
        "    classification_report,\n",
        "     f1_score\n",
        ")\n",
        "\n",
        "# Algoritmos\n",
        "from sklearn.ensemble import RandomForestClassifier\n",
        "from sklearn.neighbors import KNeighborsClassifier\n",
        "from sklearn.linear_model import LogisticRegression"
      ]
    },
    {
      "cell_type": "markdown",
      "metadata": {
        "id": "kBSg3XjkBlvD"
      },
      "source": [
        "# Carregar os dados"
      ]
    },
    {
      "cell_type": "code",
      "execution_count": null,
      "metadata": {
        "id": "5AiCQWdI0yZ6"
      },
      "outputs": [],
      "source": [
        "# Carregar a base\n",
        "df = pd.read_csv('/content/banco.csv')\n",
        "df.head(5)"
      ]
    },
    {
      "cell_type": "code",
      "execution_count": null,
      "metadata": {
        "id": "eSpGUFi21Iyx"
      },
      "outputs": [],
      "source": [
        "# Informações\n",
        "df.info()"
      ]
    },
    {
      "cell_type": "code",
      "execution_count": null,
      "metadata": {
        "id": "r7e8gt446mO2"
      },
      "outputs": [],
      "source": [
        "# Verificar NaN\n",
        "df.isna().sum()"
      ]
    },
    {
      "cell_type": "code",
      "execution_count": null,
      "metadata": {
        "id": "Rdc3Cv4qBzzb"
      },
      "outputs": [],
      "source": [
        "# Criar colunas numéricas\n",
        "colunas_numericas = df.select_dtypes(\n",
        "               include =['int', 'float']).columns\n",
        "colunas_numericas"
      ]
    },
    {
      "cell_type": "code",
      "execution_count": null,
      "metadata": {
        "id": "4Ix8j_c7CDS0"
      },
      "outputs": [],
      "source": [
        "# Criar colunas categóricas\n",
        "colunas_categoricas = df.select_dtypes(\n",
        "                 include=['object']).columns\n",
        "colunas_categoricas"
      ]
    },
    {
      "cell_type": "markdown",
      "source": [
        "# Funções auxiliares"
      ],
      "metadata": {
        "id": "DI3wDQASdh2V"
      }
    },
    {
      "cell_type": "code",
      "source": [
        "# Função para treinar\n",
        "def treinar_avaliar(X_train, y_train, X_test, y_test):\n",
        "    classificadores = {\n",
        "        'Random Forest': RandomForestClassifier(random_state=42),\n",
        "        'Knn': KNeighborsClassifier(),\n",
        "        'Regressão Logística': LogisticRegression(random_state=42)\n",
        "    }\n",
        "\n",
        "    resultados = []\n",
        "\n",
        "    for nome, classificador in classificadores.items():\n",
        "        classificador.fit(X_train, y_train)\n",
        "        y_pred = classificador.predict(X_test)\n",
        "        acuracia = accuracy_score(y_test, y_pred)\n",
        "        f1Score = f1_score(y_test, y_pred, average='weighted')\n",
        "        resultados.append({'Modelo': nome,\n",
        "                           'Acurácia': (acuracia*100).round(2),\n",
        "                           'F1 Score': (f1Score*100).round(2)})\n",
        "\n",
        "    return pd.DataFrame(resultados)"
      ],
      "metadata": {
        "id": "kHa4c7ogdjqY"
      },
      "execution_count": null,
      "outputs": []
    },
    {
      "cell_type": "code",
      "source": [
        "# Função para a matriz de confusão\n",
        "def plot_confusion_matrix(conf_matrix, labels):\n",
        "    fig = ff.create_annotated_heatmap(z=conf_matrix[::-1],\n",
        "                                      x=labels,\n",
        "                                      y=labels[::-1],\n",
        "                                      colorscale='blues')\n",
        "\n",
        "    fig.update_layout(title='Matriz de Confusão',\n",
        "                      xaxis=dict(title='Classe Prevista', side='bottom'),\n",
        "                      yaxis=dict(title='Classe Real'))\n",
        "\n",
        "    fig.show()"
      ],
      "metadata": {
        "id": "gMKSUOecgNMD"
      },
      "execution_count": null,
      "outputs": []
    },
    {
      "cell_type": "markdown",
      "metadata": {
        "id": "DgmQ0osMBvla"
      },
      "source": [
        "# EDA"
      ]
    },
    {
      "cell_type": "code",
      "execution_count": null,
      "metadata": {
        "id": "TSKth8VbBw1a"
      },
      "outputs": [],
      "source": [
        "# Estatísticas Descritivas\n",
        "df.describe().T.round(2)"
      ]
    },
    {
      "cell_type": "code",
      "execution_count": null,
      "metadata": {
        "id": "gKtt9GysFsvm"
      },
      "outputs": [],
      "source": [
        "# Correlações\n",
        "corr = df.corr(numeric_only=True)\n",
        "corr.style.background_gradient()"
      ]
    },
    {
      "cell_type": "code",
      "execution_count": null,
      "metadata": {
        "id": "S9P59wfuYdTX"
      },
      "outputs": [],
      "source": [
        "# Médias por alvo\n",
        "pd.pivot_table(df, index='saiu',\n",
        "               values=colunas_numericas,\n",
        "               aggfunc={'mean', 'std'}).round(2)"
      ]
    },
    {
      "cell_type": "code",
      "execution_count": null,
      "metadata": {
        "id": "1CWfKqDjDcA5"
      },
      "outputs": [],
      "source": [
        "# Valores Únicos categóricos\n",
        "for col in colunas_categoricas:\n",
        "    print(col, df[col].unique())"
      ]
    },
    {
      "cell_type": "code",
      "execution_count": null,
      "metadata": {
        "id": "3lqQb0ddUva9"
      },
      "outputs": [],
      "source": [
        "# Classe para gerar os gráficos\n",
        "class Graficos:\n",
        "    def __init__(self, df):\n",
        "        self.df = df\n",
        "\n",
        "    def histograma(self, col1):\n",
        "        fig = px.histogram(self.df,\n",
        "                           x=col1, marginal=\"box\",\n",
        "                           template='plotly_dark')\n",
        "        fig.show()\n",
        "\n",
        "\n",
        "    def boxplot_alvo(self, col1, col_genero='saiu'):\n",
        "        fig = px.box(self.df,\n",
        "                     x=col_genero, y=col1,\n",
        "                     color = col_genero,\n",
        "                     template='plotly_dark')\n",
        "\n",
        "        fig.update_layout(xaxis_title='Saiu', yaxis_title=col1)\n",
        "\n",
        "        fig.show()\n",
        "\n",
        "    def barras(self, col1):\n",
        "        # Contar ocorrências de valores na coluna\n",
        "        counts = self.df[col1].value_counts()\n",
        "\n",
        "        # Criar gráfico de barras\n",
        "        fig = px.bar(x=counts.index,\n",
        "                     y=counts.values,\n",
        "                     text_auto = True,\n",
        "                     template='plotly_dark')\n",
        "\n",
        "        fig.update_traces(textposition='outside')\n",
        "\n",
        "        fig.update_layout(xaxis_title=col1,\n",
        "                          yaxis_title='Contagem',\n",
        "                          )\n",
        "\n",
        "        fig.show()"
      ]
    },
    {
      "cell_type": "code",
      "execution_count": null,
      "metadata": {
        "id": "xV5BtTYhU_gG"
      },
      "outputs": [],
      "source": [
        "# Criar o objeto\n",
        "graficos = Graficos(df)"
      ]
    },
    {
      "cell_type": "code",
      "execution_count": null,
      "metadata": {
        "id": "IydYw-QhVFYb"
      },
      "outputs": [],
      "source": [
        "# Histograma\n",
        "for col in colunas_numericas:\n",
        "    graficos.histograma(col)"
      ]
    },
    {
      "cell_type": "code",
      "source": [
        "# Boxplot\n",
        "for col in colunas_numericas:\n",
        "    graficos.boxplot_alvo(col)"
      ],
      "metadata": {
        "id": "u94pgUb9bHL4"
      },
      "execution_count": null,
      "outputs": []
    },
    {
      "cell_type": "code",
      "execution_count": null,
      "metadata": {
        "id": "uL1GZLgPaJPL"
      },
      "outputs": [],
      "source": [
        "# Barras\n",
        "for col in colunas_categoricas:\n",
        "    graficos.barras(col)"
      ]
    },
    {
      "cell_type": "markdown",
      "metadata": {
        "id": "SKEqkb7wMq86"
      },
      "source": [
        "# Pré-processamento"
      ]
    },
    {
      "cell_type": "code",
      "execution_count": null,
      "metadata": {
        "id": "HUUSE7let7RF"
      },
      "outputs": [],
      "source": [
        "# Separar X e y\n",
        "X = df.drop('saiu', axis = 1)\n",
        "y = df['saiu']"
      ]
    },
    {
      "cell_type": "code",
      "execution_count": null,
      "metadata": {
        "id": "g51udHMdt-GC"
      },
      "outputs": [],
      "source": [
        "# Codificar alvo\n",
        "le = LabelEncoder()\n",
        "y = le.fit_transform(y)"
      ]
    },
    {
      "cell_type": "code",
      "source": [
        "# Armazenar os valores da classe\n",
        "labels = list(le.classes_)"
      ],
      "metadata": {
        "id": "uuBE4cgfhuio"
      },
      "execution_count": null,
      "outputs": []
    },
    {
      "cell_type": "code",
      "execution_count": null,
      "metadata": {
        "id": "9E--XIIOtZ7P"
      },
      "outputs": [],
      "source": [
        "# Definir colunas numéricas e categóricas\n",
        "numeric_features = colunas_numericas\n",
        "categorical_features = colunas_categoricas.drop('saiu')"
      ]
    },
    {
      "cell_type": "code",
      "execution_count": null,
      "metadata": {
        "id": "heHOlSYMPf0c"
      },
      "outputs": [],
      "source": [
        "# Pré-processamento das colunas categóricas\n",
        "categorical_transformer = OneHotEncoder(\n",
        "                      handle_unknown='ignore')"
      ]
    },
    {
      "cell_type": "code",
      "execution_count": null,
      "metadata": {
        "id": "PUHimxHnPsZh"
      },
      "outputs": [],
      "source": [
        "# Pipeline para pré-processamento das features numéricas\n",
        "numeric_transformer = Pipeline(steps=[\n",
        "    ('scaler', StandardScaler())\n",
        "])"
      ]
    },
    {
      "cell_type": "code",
      "execution_count": null,
      "metadata": {
        "id": "6UOeN1XbtiJ-"
      },
      "outputs": [],
      "source": [
        "# Combinar os pré-processadores em um ColumnTransformer\n",
        "preprocessor = ColumnTransformer(\n",
        "    transformers=[\n",
        "        ('num', numeric_transformer, numeric_features),\n",
        "        ('cat', categorical_transformer, categorical_features)\n",
        "    ], remainder='drop')"
      ]
    },
    {
      "cell_type": "code",
      "execution_count": null,
      "metadata": {
        "id": "vE5IoSQ8cE3d"
      },
      "outputs": [],
      "source": [
        "# Dividir em treino e teste\n",
        "X_train, X_test, y_train, y_test = train_test_split(X,\n",
        "                                                    y, test_size=0.2,\n",
        "                                                    random_state=42,\n",
        "                                                    stratify = y\n",
        "                                                )"
      ]
    },
    {
      "cell_type": "code",
      "execution_count": null,
      "metadata": {
        "id": "c3HA9oDruHTF"
      },
      "outputs": [],
      "source": [
        "# Aplicar o pré-processamento nos conjuntos de treino e teste\n",
        "X_train_processed = preprocessor.fit_transform(X_train)\n",
        "X_test_processed = preprocessor.transform(X_test)"
      ]
    },
    {
      "cell_type": "markdown",
      "metadata": {
        "id": "-OFQPiE7Msgc"
      },
      "source": [
        "# Classificação"
      ]
    },
    {
      "cell_type": "code",
      "source": [
        "# Treinar\n",
        "resultados_df = treinar_avaliar(X_train_processed,\n",
        "                             y_train,\n",
        "                             X_test_processed,\n",
        "                             y_test)\n",
        "\n",
        "resultados_df"
      ],
      "metadata": {
        "id": "JAG-rhkUfeRA"
      },
      "execution_count": null,
      "outputs": []
    },
    {
      "cell_type": "markdown",
      "metadata": {
        "id": "vnDWT7Nzdwst"
      },
      "source": [
        "## Random Forest"
      ]
    },
    {
      "cell_type": "code",
      "execution_count": null,
      "metadata": {
        "id": "3aKcbPhYd128"
      },
      "outputs": [],
      "source": [
        "# Treinar\n",
        "rf = RandomForestClassifier(random_state = 42)\n",
        "rf.fit(X_train_processed, y_train)"
      ]
    },
    {
      "cell_type": "code",
      "execution_count": null,
      "metadata": {
        "id": "qm-L-fOcd4kL"
      },
      "outputs": [],
      "source": [
        "# Avaliar\n",
        "rf_acc = accuracy_score(y_test, rf.predict(X_test_processed))\n",
        "\n",
        "print(f\"Acurácia (treino):\"\n",
        "      f\"{accuracy_score(y_train, rf.predict(X_train_processed)):.2f}\")\n",
        "\n",
        "print(f\"Acurácia (teste): {rf_acc:.2f}\")"
      ]
    },
    {
      "cell_type": "code",
      "execution_count": null,
      "metadata": {
        "id": "k8W0dgyLeeN8"
      },
      "outputs": [],
      "source": [
        "# Matriz de confusão\n",
        "rf_matriz = confusion_matrix(y_test, rf.predict(X_test_processed))\n",
        "\n",
        "# Mostrar matriz\n",
        "plot_confusion_matrix(rf_matriz, labels)"
      ]
    },
    {
      "cell_type": "code",
      "execution_count": null,
      "metadata": {
        "id": "fZM-V2OverIL"
      },
      "outputs": [],
      "source": [
        "# Relatório de classificação\n",
        "print(classification_report(y_test, rf.predict(X_test_processed)))"
      ]
    }
  ],
  "metadata": {
    "colab": {
      "provenance": []
    },
    "kernelspec": {
      "display_name": "Python 3",
      "name": "python3"
    },
    "language_info": {
      "name": "python"
    }
  },
  "nbformat": 4,
  "nbformat_minor": 0
}
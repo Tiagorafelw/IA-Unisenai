{
  "nbformat": 4,
  "nbformat_minor": 0,
  "metadata": {
    "colab": {
      "provenance": [],
      "collapsed_sections": [
        "x3a_RlLY14Z5",
        "ezLMR6Mt2Rmw",
        "OH1jhcsc8HN4"
      ]
    },
    "kernelspec": {
      "name": "python3",
      "display_name": "Python 3"
    },
    "language_info": {
      "name": "python"
    }
  },
  "cells": [
    {
      "cell_type": "markdown",
      "source": [
        "# Bibliotecas"
      ],
      "metadata": {
        "id": "ipdBDuAHvaLr"
      }
    },
    {
      "cell_type": "code",
      "source": [
        "import plotly.graph_objects as go\n",
        "import numpy as np"
      ],
      "metadata": {
        "id": "fnZSUoHhvcHo"
      },
      "execution_count": null,
      "outputs": []
    },
    {
      "cell_type": "markdown",
      "source": [
        "# Escalar"
      ],
      "metadata": {
        "id": "wl-rMDlOrEp4"
      }
    },
    {
      "cell_type": "code",
      "source": [
        "# Valor do escalar\n",
        "escalar = 10"
      ],
      "metadata": {
        "id": "9CoZXGSRr4nS"
      },
      "execution_count": null,
      "outputs": []
    },
    {
      "cell_type": "code",
      "source": [
        "# Criar visualização\n",
        "fig = go.Figure()\n",
        "\n",
        "# Adicionar ponto para representar o escalar\n",
        "fig.add_trace(go.Scatter3d(x=[0],\n",
        "                           y=[0],\n",
        "                           z=[0],\n",
        "                           mode='markers',\n",
        "                           marker=dict(color='red'),\n",
        "                           text=[f'Escalar: {escalar}']))\n",
        "\n",
        "# Configurar layout\n",
        "fig.update_layout(scene=dict(aspectmode=\"cube\",\n",
        "                             xaxis_title='Eixo x',\n",
        "                             yaxis_title='Eixo y',\n",
        "                             zaxis_title='Eixo z'))\n",
        "\n",
        "# Mostrar figura\n",
        "fig.show()"
      ],
      "metadata": {
        "id": "tsSjUry-rHKg"
      },
      "execution_count": null,
      "outputs": []
    },
    {
      "cell_type": "markdown",
      "source": [
        "# Vetor"
      ],
      "metadata": {
        "id": "8BWZGVDDscYY"
      }
    },
    {
      "cell_type": "code",
      "source": [
        "# Vetor unidimensional\n",
        "vetor = [4]\n",
        "\n",
        "# Criar visualização em Plotly\n",
        "fig = go.Figure()\n",
        "\n",
        "# Adicionar vetor unidimensional\n",
        "fig.add_trace(go.Scatter(x=[0, vetor[0]], y=[0, 0],\n",
        "                         mode='lines+markers', line=dict(color='blue', width=4),\n",
        "                         marker=dict(size=10, color='blue')))\n",
        "\n",
        "# Configurar layout\n",
        "fig.update_layout(xaxis_title='Eixo x', yaxis_title='Eixo y', title='Vetor Unidimensional')\n",
        "\n",
        "# Mostrar figura\n",
        "fig.show()"
      ],
      "metadata": {
        "id": "BoP1bI8jsf5A"
      },
      "execution_count": null,
      "outputs": []
    },
    {
      "cell_type": "markdown",
      "source": [
        "# Matriz"
      ],
      "metadata": {
        "id": "-VNdKsLduF4D"
      }
    },
    {
      "cell_type": "code",
      "source": [
        "# Matriz 2x3 como exemplo\n",
        "matriz = np.array([[1, 2, 3],\n",
        "                   [4, 5, 6]])\n",
        "\n",
        "# Criar visualização em Plotly\n",
        "fig = go.Figure()\n",
        "\n",
        "# Adicionar pontos para representar a matriz\n",
        "fig.add_trace(go.Scatter(x=[1, 1, 1, 2, 2, 2], y=[1, 2, 3, 1, 2, 3],\n",
        "                         mode='markers',\n",
        "                         marker=dict(size=12, color='blue'),\n",
        "                         text=[f'Matriz[{i+1}][{j+1}]: {matriz[i][j]}' for i in range(2) for j in range(3)]))\n",
        "\n",
        "# Configurar layout\n",
        "fig.update_layout(xaxis_title='Linhas', yaxis_title='Colunas', title='Representação de Matriz')\n",
        "\n",
        "# Mostrar figura\n",
        "fig.show()"
      ],
      "metadata": {
        "id": "AfIvIIOvtwk6"
      },
      "execution_count": null,
      "outputs": []
    },
    {
      "cell_type": "markdown",
      "source": [
        "# Tensor"
      ],
      "metadata": {
        "id": "ww-qNls0vnOj"
      }
    },
    {
      "cell_type": "code",
      "source": [
        "# Tensor tridimensional como exemplo (2x2x2)\n",
        "tensor = np.array([[[1, 2], [3, 4]],\n",
        "                   [[5, 6], [7, 8]]])\n",
        "\n",
        "# Criar visualização em Plotly\n",
        "fig = go.Figure()\n",
        "\n",
        "# Adicionar pontos para representar o tensor\n",
        "for i in range(tensor.shape[0]):\n",
        "    for j in range(tensor.shape[1]):\n",
        "        for k in range(tensor.shape[2]):\n",
        "            fig.add_trace(go.Scatter3d(x=[j], y=[k], z=[i],\n",
        "                                       mode='markers',\n",
        "                                       marker=dict(size=12, color='orange'),\n",
        "                                       text=f'Tensor[{i+1}][{j+1}][{k+1}]: {tensor[i][j][k]}'))\n",
        "\n",
        "# Configurar layout\n",
        "fig.update_layout(scene=dict(aspectmode=\"cube\", xaxis_title='Colunas',\n",
        "                             yaxis_title='Profundidade',\n",
        "                             zaxis_title='Linhas'),\n",
        "                  title='Representação de Tensor Tridimensional')\n",
        "\n",
        "# Mostrar figura\n",
        "fig.show()"
      ],
      "metadata": {
        "id": "5mkBCjBfvod_"
      },
      "execution_count": null,
      "outputs": []
    },
    {
      "cell_type": "markdown",
      "source": [
        "# Operações com vetores"
      ],
      "metadata": {
        "id": "kvvg9g__zi9p"
      }
    },
    {
      "cell_type": "code",
      "source": [
        "# Soma\n",
        "vetor1 = np.array([2, 3, 1])\n",
        "vetor2 = np.array([-1, 2, 4])\n",
        "\n",
        "soma_vetores = vetor1 + vetor2\n",
        "\n",
        "print(\"Soma de Vetores:\", soma_vetores)"
      ],
      "metadata": {
        "id": "9VjMBlW4zklK"
      },
      "execution_count": null,
      "outputs": []
    },
    {
      "cell_type": "code",
      "source": [
        "# Escalar\n",
        "vetor = np.array([2, 3, 1])\n",
        "escalar = 3\n",
        "\n",
        "vetor_multiplicado = escalar * vetor\n",
        "\n",
        "print(\"Vetor Original:\", vetor)\n",
        "print(f\"Vetor Multiplicado por Escalar {escalar}:\", vetor_multiplicado)"
      ],
      "metadata": {
        "id": "whKeMCum0c9T"
      },
      "execution_count": null,
      "outputs": []
    },
    {
      "cell_type": "code",
      "source": [
        "# Produto escalar\n",
        "produto_escalar = np.dot(vetor1, vetor2)\n",
        "\n",
        "print(\"Produto Escalar:\", produto_escalar)"
      ],
      "metadata": {
        "id": "lu1JWlAz0ilw"
      },
      "execution_count": null,
      "outputs": []
    },
    {
      "cell_type": "markdown",
      "source": [
        "# Representação visual"
      ],
      "metadata": {
        "id": "x3a_RlLY14Z5"
      }
    },
    {
      "cell_type": "markdown",
      "source": [
        "## Soma"
      ],
      "metadata": {
        "id": "ezLMR6Mt2Rmw"
      }
    },
    {
      "cell_type": "code",
      "source": [
        "# Vetores\n",
        "vetor1 = np.array([2, 3, 1])\n",
        "vetor2 = np.array([-1, 2, 4])\n",
        "soma_vetores = vetor1 + vetor2\n",
        "\n",
        "# Criar visualização em Plotly\n",
        "fig = go.Figure()\n",
        "\n",
        "# Adicionar vetores originais\n",
        "fig.add_trace(go.Scatter3d(x=[0, vetor1[0]],\n",
        "                           y=[0, vetor1[1]],\n",
        "                           z=[0, vetor1[2]],\n",
        "                           mode='lines+markers',\n",
        "                           line=dict(color='blue', width=4),\n",
        "                           marker=dict(size=10, color='blue'),\n",
        "                           name='Vetor 1'))\n",
        "\n",
        "fig.add_trace(go.Scatter3d(x=[0, vetor2[0]],\n",
        "                           y=[0, vetor2[1]],\n",
        "                           z=[0, vetor2[2]],\n",
        "                           mode='lines+markers',\n",
        "                           line=dict(color='red', width=4),\n",
        "                           marker=dict(size=10, color='red'),\n",
        "                           name='Vetor 2'))\n",
        "\n",
        "# Adicionar vetor soma\n",
        "fig.add_trace(go.Scatter3d(x=[0, soma_vetores[0]],\n",
        "                           y=[0, soma_vetores[1]],\n",
        "                           z=[0, soma_vetores[2]],\n",
        "                           mode='lines+markers',\n",
        "                           line=dict(color='green', width=4),\n",
        "                           marker=dict(size=10, color='green'),\n",
        "                           name='Soma Vetores'))\n",
        "\n",
        "# Configurar layout\n",
        "fig.update_layout(scene=dict(aspectmode=\"cube\",\n",
        "                             xaxis_title='Eixo x',\n",
        "                             yaxis_title='Eixo y',\n",
        "                             zaxis_title='Eixo z'),\n",
        "                             title='Soma de Vetores')\n",
        "\n",
        "# Mostrar figura\n",
        "fig.show()"
      ],
      "metadata": {
        "id": "VfOrfnXG167Y"
      },
      "execution_count": null,
      "outputs": []
    },
    {
      "cell_type": "markdown",
      "source": [
        "## Escalar"
      ],
      "metadata": {
        "id": "c_pA7Tta2iWM"
      }
    },
    {
      "cell_type": "code",
      "source": [
        "# Vetor e escalar\n",
        "vetor = np.array([2, 3, 1])\n",
        "escalar = 3\n",
        "vetor_multiplicado = escalar * vetor\n",
        "\n",
        "# Criar visualização em Plotly\n",
        "fig = go.Figure()\n",
        "\n",
        "# Adicionar vetor original\n",
        "fig.add_trace(go.Scatter3d(x=[0, vetor[0]], y=[0, vetor[1]], z=[0, vetor[2]],\n",
        "                           mode='lines+markers', line=dict(color='blue', width=4),\n",
        "                           marker=dict(size=10, color='blue'), name='Vetor Original'))\n",
        "\n",
        "# Adicionar vetor multiplicado por escalar\n",
        "fig.add_trace(go.Scatter3d(x=[0, vetor_multiplicado[0]],\n",
        "                           y=[0, vetor_multiplicado[1]],\n",
        "                           z=[0, vetor_multiplicado[2]],\n",
        "                           mode='lines+markers',\n",
        "                           line=dict(color='green', width=4),\n",
        "                           marker=dict(size=10, color='green'),\n",
        "                           name='Vetor Multiplicado'))\n",
        "\n",
        "# Configurar layout\n",
        "fig.update_layout(scene=dict(aspectmode=\"cube\", xaxis_title='Eixo x',\n",
        "                             yaxis_title='Eixo y',\n",
        "                             zaxis_title='Eixo z'),\n",
        "                  title='Multiplicação de Vetor por Escalar')\n",
        "\n",
        "# Mostrar figura\n",
        "fig.show()"
      ],
      "metadata": {
        "id": "iyRHDBRV2j_N"
      },
      "execution_count": null,
      "outputs": []
    },
    {
      "cell_type": "markdown",
      "source": [
        "## Produto"
      ],
      "metadata": {
        "id": "OH1jhcsc8HN4"
      }
    },
    {
      "cell_type": "code",
      "source": [
        "# Vetores\n",
        "vetor1 = np.array([2, 3, 1])\n",
        "vetor2 = np.array([-1, 2, 4])\n",
        "\n",
        "# Calcular produto escalar\n",
        "produto_escalar = np.dot(vetor1, vetor2)\n",
        "\n",
        "# Criar visualização em Plotly\n",
        "fig = go.Figure()\n",
        "\n",
        "# Adicionar vetores originais\n",
        "fig.add_trace(go.Scatter3d(x=[0, vetor1[0]], y=[0, vetor1[1]], z=[0, vetor1[2]],\n",
        "                           mode='lines+markers', line=dict(color='blue', width=4),\n",
        "                           marker=dict(size=10, color='blue'), name='Vetor 1'))\n",
        "\n",
        "fig.add_trace(go.Scatter3d(x=[0, vetor2[0]], y=[0, vetor2[1]], z=[0, vetor2[2]],\n",
        "                           mode='lines+markers', line=dict(color='red', width=4),\n",
        "                           marker=dict(size=10, color='red'), name='Vetor 2'))\n",
        "\n",
        "# Adicionar ponto para representar o produto escalar\n",
        "fig.add_trace(go.Scatter3d(x=[vetor1[0]], y=[vetor1[1]], z=[vetor1[2]],\n",
        "                           mode='markers', marker=dict(size=12, color='green'),\n",
        "                           text=f'Produto Escalar: {produto_escalar}', name='Produto Escalar'))\n",
        "\n",
        "# Adicionar linha para representar a projeção\n",
        "projecao = (produto_escalar / np.linalg.norm(vetor2**2)) * vetor2\n",
        "fig.add_trace(go.Scatter3d(x=[0, projecao[0]], y=[0, projecao[1]], z=[0, projecao[2]],\n",
        "                           mode='lines', line=dict(color='gray', width=2), name='Projeção'))\n",
        "\n",
        "# Configurar layout\n",
        "fig.update_layout(scene=dict(aspectmode=\"cube\", xaxis_title='Eixo x',\n",
        "                             yaxis_title='Eixo y', zaxis_title='Eixo z'),\n",
        "                  title='Produto Escalar de Vetor 1 e Vetor 2')\n",
        "\n",
        "# Mostrar figura\n",
        "fig.show()"
      ],
      "metadata": {
        "id": "1sazBRHN8IjC"
      },
      "execution_count": null,
      "outputs": []
    }
  ]
}
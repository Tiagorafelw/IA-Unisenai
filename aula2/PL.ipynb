{
  "nbformat": 4,
  "nbformat_minor": 0,
  "metadata": {
    "colab": {
      "provenance": [],
      "collapsed_sections": [
        "UD2CR29MbXzL",
        "vVBYigyCfwA0"
      ]
    },
    "kernelspec": {
      "name": "python3",
      "display_name": "Python 3"
    },
    "language_info": {
      "name": "python"
    }
  },
  "cells": [
    {
      "cell_type": "code",
      "source": [
        "!pip install pulp"
      ],
      "metadata": {
        "id": "f3DaVOjDQBrS"
      },
      "execution_count": null,
      "outputs": []
    },
    {
      "cell_type": "code",
      "source": [
        "from pulp import LpMaximize, LpProblem, LpVariable"
      ],
      "metadata": {
        "id": "kvuh2YJdRkVJ"
      },
      "execution_count": null,
      "outputs": []
    },
    {
      "cell_type": "markdown",
      "source": [
        "# Exemplo"
      ],
      "metadata": {
        "id": "UD2CR29MbXzL"
      }
    },
    {
      "cell_type": "code",
      "source": [
        "# Criação do problema de maximização\n",
        "problema = LpProblem(name=\"maximizar_Z\", sense=LpMaximize)\n",
        "\n",
        "# Criação das variáveis de decisão\n",
        "x1 = LpVariable(\"Produto1\", lowBound=0, cat=\"Integer\")\n",
        "x2 = LpVariable(\"Produto2\", lowBound=0, cat=\"Integer\")\n",
        "\n",
        "# Adicionando a função objetivo\n",
        "problema += 3 * x1 + 2 * x2, \"Z\"\n",
        "\n",
        "# Adicionando as restrições\n",
        "problema += 2 * x1 + x2 <= 20, \"restricao1\"\n",
        "problema += 4 * x1 - 5 * x2 >= -10, \"restricao2\"\n",
        "\n",
        "# Resolvendo o problema\n",
        "problema.solve()\n",
        "\n",
        "# Imprime os resultados\n",
        "print(\"Status:\", problema.status)\n",
        "print(\"Número de lotes do Produto 1:\", int(x1.varValue))\n",
        "print(\"Número de lotes do Produto 2:\", int(x2.varValue))\n",
        "print(\"Lucro total máximo:\", int(problema.objective.value()))"
      ],
      "metadata": {
        "id": "DyJxlPuSdryQ"
      },
      "execution_count": null,
      "outputs": []
    },
    {
      "cell_type": "markdown",
      "source": [
        "# Exercício 1"
      ],
      "metadata": {
        "id": "vVBYigyCfwA0"
      }
    },
    {
      "cell_type": "code",
      "source": [
        "# Criar problema de programação linear\n",
        "problema = LpProblem(\"Maximizar_Lucro\", LpMaximize)\n",
        "\n",
        "# Variáveis de decisão (número de lotes do Produto 1 e Produto 2)\n",
        "x1 = LpVariable(\"Produto1\", lowBound=0, cat=\"Integer\")\n",
        "x2 = LpVariable(\"Produto2\", lowBound=0, cat=\"Integer\")"
      ],
      "metadata": {
        "id": "wkmVmXW6d3dY"
      },
      "execution_count": null,
      "outputs": []
    },
    {
      "cell_type": "code",
      "source": [
        "# Função objetivo: Maximizar o lucro total\n",
        "problema += 3000 * x1 + 5000 * x2, \"Maximizar_Lucro\""
      ],
      "metadata": {
        "id": "bSrHmIQ-eGVL"
      },
      "execution_count": null,
      "outputs": []
    },
    {
      "cell_type": "code",
      "source": [
        "# Restrições de disponibilidade de horas em cada fábrica\n",
        "problema += 1 * x1 <= 4, \"Fábrica1\"\n",
        "problema += 2 * x2 <= 12, \"Fábrica2\"\n",
        "problema += 3 * x1 + 2 * x2 <= 18, \"Fábrica3\""
      ],
      "metadata": {
        "id": "yjPHc1iEeKjo"
      },
      "execution_count": null,
      "outputs": []
    },
    {
      "cell_type": "code",
      "source": [
        "# Resolve o problema de programação linear\n",
        "problema.solve()"
      ],
      "metadata": {
        "id": "glOGnRBdeQv7",
        "colab": {
          "base_uri": "https://localhost:8080/"
        },
        "outputId": "5a783bf6-8aa7-4fef-cffe-72c3c3bb0382"
      },
      "execution_count": null,
      "outputs": [
        {
          "output_type": "execute_result",
          "data": {
            "text/plain": [
              "1"
            ]
          },
          "metadata": {},
          "execution_count": 6
        }
      ]
    },
    {
      "cell_type": "code",
      "source": [
        "# Imprime os resultados\n",
        "print(\"Status:\", problema.status)\n",
        "print(\"Número de lotes do Produto 1:\", int(x1.varValue))\n",
        "print(\"Número de lotes do Produto 2:\", int(x2.varValue))\n",
        "print(\"Lucro total máximo:\", int(problema.objective.value()))"
      ],
      "metadata": {
        "id": "qoVMQqvVeTII"
      },
      "execution_count": null,
      "outputs": []
    },
    {
      "cell_type": "markdown",
      "source": [
        "# Exercício 2"
      ],
      "metadata": {
        "id": "yEmxTARvfyh6"
      }
    },
    {
      "cell_type": "code",
      "source": [
        "# Criar problema de programação linear\n",
        "problema = LpProblem(\"Maximizar_Lucro\", LpMaximize)\n",
        "\n",
        "# Variáveis de decisão (número de lotes do Produto 1 e Produto 2)\n",
        "x1 = LpVariable(\"Básico\", lowBound=0, cat=\"Integer\")\n",
        "x2 = LpVariable(\"Luxo\", lowBound=0, cat=\"Integer\")"
      ],
      "metadata": {
        "id": "btefpECMf0sA"
      },
      "execution_count": null,
      "outputs": []
    },
    {
      "cell_type": "code",
      "source": [
        "# Função objetivo: Maximizar o lucro total\n",
        "problema += 1000 * x1 + 1800 * x2, \"Maximizar_Lucro\""
      ],
      "metadata": {
        "id": "86SBfWybgXlm"
      },
      "execution_count": null,
      "outputs": []
    },
    {
      "cell_type": "code",
      "source": [
        "# Restrições de disponibilidade de tempo e demanda\n",
        "problema += 20 * x1+ 30 * x2 <= 1200, \"Tempo\"\n",
        "problema += x1 <= 40, \"Demanda Básico\"\n",
        "problema += x2 <= 30, \"Demanda Luxo\""
      ],
      "metadata": {
        "id": "nKxltxWAgiBw"
      },
      "execution_count": null,
      "outputs": []
    },
    {
      "cell_type": "code",
      "source": [
        "# Resolve o problema de programação linear\n",
        "problema.solve()"
      ],
      "metadata": {
        "id": "ydRdWBeIg_NY"
      },
      "execution_count": null,
      "outputs": []
    },
    {
      "cell_type": "code",
      "source": [
        "# Imprime os resultados\n",
        "print(\"Status:\", problema.status)\n",
        "print(\"Número de lotes do Produto 1:\", int(x1.varValue))\n",
        "print(\"Número de lotes do Produto 2:\", int(x2.varValue))\n",
        "print(\"Lucro total máximo:\", int(problema.objective.value()))"
      ],
      "metadata": {
        "id": "eUovKtsnhBKw"
      },
      "execution_count": null,
      "outputs": []
    },
    {
      "cell_type": "markdown",
      "source": [
        "# Exercício 3"
      ],
      "metadata": {
        "id": "Aye397cul2Si"
      }
    },
    {
      "cell_type": "code",
      "source": [
        "# Criar problema de programação linear\n",
        "problema = LpProblem(\"Maximizar_Lucro\", LpMaximize)\n",
        "\n",
        "# Variáveis de decisão (número de lotes do Produto 1 e Produto 2)\n",
        "x1 = LpVariable(\"P1\", lowBound=0, cat=\"Integer\")\n",
        "x2 = LpVariable(\"P2\", lowBound=0, cat=\"Integer\")"
      ],
      "metadata": {
        "id": "tpAQK7ZLl4J3"
      },
      "execution_count": null,
      "outputs": []
    },
    {
      "cell_type": "code",
      "source": [
        "# Função objetivo: Maximizar o lucro total\n",
        "problema += 110 * x1 + 65 * x2, \"Maximizar_Lucro\""
      ],
      "metadata": {
        "id": "5SYX7-g5m0sY"
      },
      "execution_count": null,
      "outputs": []
    },
    {
      "cell_type": "code",
      "source": [
        "# Restrições de disponibilidade de tempo e demanda\n",
        "problema += 5 * x1 + 7 * x2 <= 30, \"Tempo\"\n",
        "problema += 2* x1 + 1* x2 <= 7, \"Estoque\""
      ],
      "metadata": {
        "id": "pt70gmoym8rH"
      },
      "execution_count": null,
      "outputs": []
    },
    {
      "cell_type": "code",
      "source": [
        "# Resolve o problema de programação linear\n",
        "problema.solve()"
      ],
      "metadata": {
        "id": "unu4beYpnZrJ"
      },
      "execution_count": null,
      "outputs": []
    },
    {
      "cell_type": "code",
      "source": [
        "# Imprime os resultados\n",
        "print(\"Status:\", problema.status)\n",
        "print(\"Número de lotes do Produto 1:\", int(x1.varValue))\n",
        "print(\"Número de lotes do Produto 2:\", int(x2.varValue))\n",
        "print(\"Lucro total máximo:\", int(problema.objective.value()))"
      ],
      "metadata": {
        "id": "3ICceWuRnbgg"
      },
      "execution_count": null,
      "outputs": []
    }
  ]
}
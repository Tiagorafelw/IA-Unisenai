{
  "nbformat": 4,
  "nbformat_minor": 0,
  "metadata": {
    "colab": {
      "provenance": []
    },
    "kernelspec": {
      "name": "python3",
      "display_name": "Python 3"
    },
    "language_info": {
      "name": "python"
    }
  },
  "cells": [
    {
      "cell_type": "code",
      "source": [
        "import numpy as np"
      ],
      "metadata": {
        "id": "pWQS_wl6x_ys"
      },
      "execution_count": null,
      "outputs": []
    },
    {
      "cell_type": "code",
      "source": [
        "# Definindo duas matrizes\n",
        "A = np.array([[1, 2], [3, 4]])\n",
        "B = np.array([[5, 6], [7, 8]])"
      ],
      "metadata": {
        "id": "nmFYyWdvx3zU"
      },
      "execution_count": null,
      "outputs": []
    },
    {
      "cell_type": "code",
      "source": [
        "# Adição de matrizes\n",
        "C = A + B\n",
        "print(\"Resultado da Adição:\")\n",
        "print(C)"
      ],
      "metadata": {
        "id": "37f8tDxQ2tHh"
      },
      "execution_count": null,
      "outputs": []
    },
    {
      "cell_type": "code",
      "source": [
        "# Subtração de matrizes\n",
        "C = A - B\n",
        "print(\"Resultado da Subtração:\")\n",
        "print(C)"
      ],
      "metadata": {
        "id": "w6FZkKzD24Xb"
      },
      "execution_count": null,
      "outputs": []
    },
    {
      "cell_type": "code",
      "source": [
        "# Multiplicação por escalar\n",
        "k = 2\n",
        "B = k * A\n",
        "print(\"Resultado da Multiplicação por Escalar:\")\n",
        "print(B)"
      ],
      "metadata": {
        "id": "hr3zMuk3z9ZL"
      },
      "execution_count": null,
      "outputs": []
    },
    {
      "cell_type": "code",
      "source": [
        "# Multiplicação de matrizes\n",
        "C = np.dot(A, B)\n",
        "print(\"Resultado da Multiplicação de Matrizes:\")\n",
        "print(C)"
      ],
      "metadata": {
        "id": "Atdz8LRE3Da5"
      },
      "execution_count": null,
      "outputs": []
    },
    {
      "cell_type": "code",
      "source": [
        "# Transposta da matriz\n",
        "A_transposta = np.transpose(A)\n",
        "print(\"Matriz Transposta:\")\n",
        "print(A_transposta)"
      ],
      "metadata": {
        "id": "f6C_6C4E3JIJ"
      },
      "execution_count": null,
      "outputs": []
    },
    {
      "cell_type": "code",
      "source": [
        "# Calculando o determinante\n",
        "det_A = np.linalg.det(A)\n",
        "print(\"Determinante da Matriz A:\", det_A)"
      ],
      "metadata": {
        "id": "frUc5Ifs3tWJ"
      },
      "execution_count": null,
      "outputs": []
    },
    {
      "cell_type": "code",
      "source": [
        "# Criando uma matriz identidade de ordem 3\n",
        "I = np.eye(3)\n",
        "print(\"Matriz Identidade:\")\n",
        "print(I)"
      ],
      "metadata": {
        "id": "vuD2icXx37i5"
      },
      "execution_count": null,
      "outputs": []
    },
    {
      "cell_type": "code",
      "source": [
        "# Calculando a matriz inversa\n",
        "A_inv = np.linalg.inv(A)\n",
        "print(\"Matriz Inversa de A:\")\n",
        "print(A_inv)"
      ],
      "metadata": {
        "id": "O02wsn-k3_6p"
      },
      "execution_count": null,
      "outputs": []
    }
  ]
}